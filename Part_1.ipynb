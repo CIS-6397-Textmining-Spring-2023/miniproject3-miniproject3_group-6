{
 "cells": [
  {
   "cell_type": "code",
   "execution_count": 9,
   "id": "f63f1301",
   "metadata": {},
   "outputs": [
    {
     "name": "stderr",
     "output_type": "stream",
     "text": [
      "[nltk_data] Downloading package stopwords to C:\\Users\\ABDUL\n",
      "[nltk_data]     AZIZ\\AppData\\Roaming\\nltk_data...\n",
      "[nltk_data]   Package stopwords is already up-to-date!\n",
      "[nltk_data] Downloading package punkt to C:\\Users\\ABDUL\n",
      "[nltk_data]     AZIZ\\AppData\\Roaming\\nltk_data...\n",
      "[nltk_data]   Package punkt is already up-to-date!\n"
     ]
    },
    {
     "data": {
      "text/plain": [
       "True"
      ]
     },
     "execution_count": 9,
     "metadata": {},
     "output_type": "execute_result"
    }
   ],
   "source": [
    "import pandas as pd\n",
    "import numpy as np\n",
    "import re\n",
    "import matplotlib.pyplot as plt\n",
    "import seaborn as sns\n",
    "from sklearn.feature_extraction.text import CountVectorizer\n",
    "from sklearn.decomposition import LatentDirichletAllocation\n",
    "import nltk\n",
    "from nltk.tokenize import word_tokenize\n",
    "from nltk.corpus import stopwords\n",
    "nltk.download('stopwords')\n",
    "nltk.download('punkt')"
   ]
  },
  {
   "cell_type": "code",
   "execution_count": 10,
   "id": "24146f4e",
   "metadata": {},
   "outputs": [],
   "source": [
    "# Loading the data\n",
    "nyt_filenames = [f\"E:/CIS/Articles/Articles/NYT_2017_ISIS_{i}.txt\" for i in range(1, 13)]\n",
    "wj_filenames = [f\"E:/CIS/Articles/Articles/WJ_2017_ISIS_ISIL_{i}.txt\" for i in range(1, 7)]"
   ]
  },
  {
   "cell_type": "code",
   "execution_count": 11,
   "id": "9554a4c7",
   "metadata": {},
   "outputs": [],
   "source": [
    "nyt_articles = []\n",
    "for filename in nyt_filenames:\n",
    "    with open(filename, 'r', encoding='utf-8') as f:\n",
    "        nyt_articles.append(f.read())\n",
    "\n",
    "wj_articles = []\n",
    "for filename in wj_filenames:\n",
    "    with open(filename, 'r', encoding='utf-8') as f:\n",
    "        wj_articles.append(f.read())"
   ]
  },
  {
   "cell_type": "code",
   "execution_count": 12,
   "id": "e152d15e",
   "metadata": {},
   "outputs": [],
   "source": [
    "# Combining the two datasets\n",
    "articles = pd.DataFrame({'Article': nyt_articles + wj_articles})"
   ]
  },
  {
   "cell_type": "code",
   "execution_count": 13,
   "id": "e90d2c65",
   "metadata": {},
   "outputs": [],
   "source": [
    "# Cleaning the corpus\n",
    "stop_words = set(stopwords.words('english'))\n",
    "def clean_text(text):\n",
    "    text = text.lower() # converting to lowercase\n",
    "    text = re.sub(r'[^\\w\\s]', '', text) # removing punctuation\n",
    "    text = re.sub(r'\\d+', '', text) # removing numbers\n",
    "    text = re.sub(r'\\s+', ' ', text) # removing extra whitespaces\n",
    "    tokens = word_tokenize(text) # tokenizing text\n",
    "    tokens = [t for t in tokens if not t in stop_words] # removing stop words\n",
    "    return \" \".join(tokens) # converting tokens back to string\n",
    "\n",
    "articles['clean_text'] = articles['Article'].apply(clean_text)"
   ]
  },
  {
   "cell_type": "code",
   "execution_count": 14,
   "id": "15e0dfe1",
   "metadata": {},
   "outputs": [
    {
     "name": "stdout",
     "output_type": "stream",
     "text": [
      "0     world europe turkey us hand seen nearly every ...\n",
      "1     us politics top republicans congress criticize...\n",
      "2     feature magazine desk sectmm forces opposition...\n",
      "3     national desk secta trump adopting handsoff st...\n",
      "4     world europe tillerson warns russia assad era ...\n",
      "5     asia australia edition briefing north korea cy...\n",
      "6     critics notebook arts television bill maher bi...\n",
      "7     foreign desk secta freed scarred city tests tr...\n",
      "8     foreign desk secta afghans say us strike hit c...\n",
      "9     national desk secta proposal collect social me...\n",
      "10    world middle east isis squeezed two sides lose...\n",
      "11    carpetbagger artscultural desk sectc turning r...\n",
      "12    declarations opinion trump cabinets good openi...\n",
      "13    politics us weighs ones stability part antiisl...\n",
      "14    site big bomb isis battle grinds jessica donat...\n",
      "15    world us attacks allies syrian regime forces s...\n",
      "16    connect dots stop terror plots adam klein word...\n",
      "17    world news isis linked filipino killed jake ma...\n",
      "Name: clean_text, dtype: object\n"
     ]
    }
   ],
   "source": [
    "# Printing the post-processed data\n",
    "print(articles['clean_text'])"
   ]
  },
  {
   "cell_type": "code",
   "execution_count": null,
   "id": "31afdf21",
   "metadata": {},
   "outputs": [],
   "source": []
  }
 ],
 "metadata": {
  "kernelspec": {
   "display_name": "Python 3 (ipykernel)",
   "language": "python",
   "name": "python3"
  },
  "language_info": {
   "codemirror_mode": {
    "name": "ipython",
    "version": 3
   },
   "file_extension": ".py",
   "mimetype": "text/x-python",
   "name": "python",
   "nbconvert_exporter": "python",
   "pygments_lexer": "ipython3",
   "version": "3.9.12"
  }
 },
 "nbformat": 4,
 "nbformat_minor": 5
}
